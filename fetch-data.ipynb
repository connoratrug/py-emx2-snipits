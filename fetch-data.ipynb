{
 "metadata": {
  "language_info": {
   "codemirror_mode": {
    "name": "ipython",
    "version": 3
   },
   "file_extension": ".py",
   "mimetype": "text/x-python",
   "name": "python",
   "nbconvert_exporter": "python",
   "pygments_lexer": "ipython3",
   "version": "3.7.10-final"
  },
  "orig_nbformat": 2,
  "kernelspec": {
   "name": "python3710jvsc74a57bd07dfe34d8d2e62d683bd2f5d5f951b11e9760267beabc84ae9782542716d19175",
   "display_name": "Python 3.7.10 64-bit"
  }
 },
 "nbformat": 4,
 "nbformat_minor": 2,
 "cells": [
  {
   "source": [
    "from python_graphql_client import GraphqlClient\n",
    "import pandas as pd   \n",
    "import json \n",
    "\n",
    "# Instantiate the client with an endpoint.\n",
    "client = GraphqlClient(endpoint=\"https://emx2-catalogue.test.molgenis.org/Conception/graphql\")\n",
    "\n",
    "# Create the query string and variables required for the request.\n",
    "query = \"\"\"\n",
    "    query Variables { \n",
    "        Variables { \n",
    "            name\n",
    "            label,\n",
    "            unit {\n",
    "                name\n",
    "            },\n",
    "            format {\n",
    "                name\n",
    "            }\n",
    "        }\n",
    "    }\n",
    "\"\"\"\n",
    "variables = {}\n",
    "\n",
    "# Synchronous request\n",
    "resp = client.execute(query=query, variables=variables)\n",
    "# print(resp)\n",
    "df = pd.json_normalize(resp['data']['Variables'])\n",
    "df.head(5)\n"
   ],
   "cell_type": "code",
   "metadata": {},
   "execution_count": 1,
   "outputs": [
    {
     "output_type": "execute_result",
     "data": {
      "text/plain": [
       "        name                                              label  format.name  \\\n",
       "0    anestes   Presence of anesthesiologist at time of delivery  Categorical   \n",
       "1      apgar  Apgar Score, attributed to the newborn after 5...      Integer   \n",
       "2  cariotipo                                          Karyotype    Character   \n",
       "3    circost                        other relevant circumstance    Character   \n",
       "4   circ_cra                                 Head circumference      Integer   \n",
       "\n",
       "  unit.name  \n",
       "0       NaN  \n",
       "1       NaN  \n",
       "2       NaN  \n",
       "3       NaN  \n",
       "4        cm  "
      ],
      "text/html": "<div>\n<style scoped>\n    .dataframe tbody tr th:only-of-type {\n        vertical-align: middle;\n    }\n\n    .dataframe tbody tr th {\n        vertical-align: top;\n    }\n\n    .dataframe thead th {\n        text-align: right;\n    }\n</style>\n<table border=\"1\" class=\"dataframe\">\n  <thead>\n    <tr style=\"text-align: right;\">\n      <th></th>\n      <th>name</th>\n      <th>label</th>\n      <th>format.name</th>\n      <th>unit.name</th>\n    </tr>\n  </thead>\n  <tbody>\n    <tr>\n      <th>0</th>\n      <td>anestes</td>\n      <td>Presence of anesthesiologist at time of delivery</td>\n      <td>Categorical</td>\n      <td>NaN</td>\n    </tr>\n    <tr>\n      <th>1</th>\n      <td>apgar</td>\n      <td>Apgar Score, attributed to the newborn after 5...</td>\n      <td>Integer</td>\n      <td>NaN</td>\n    </tr>\n    <tr>\n      <th>2</th>\n      <td>cariotipo</td>\n      <td>Karyotype</td>\n      <td>Character</td>\n      <td>NaN</td>\n    </tr>\n    <tr>\n      <th>3</th>\n      <td>circost</td>\n      <td>other relevant circumstance</td>\n      <td>Character</td>\n      <td>NaN</td>\n    </tr>\n    <tr>\n      <th>4</th>\n      <td>circ_cra</td>\n      <td>Head circumference</td>\n      <td>Integer</td>\n      <td>cm</td>\n    </tr>\n  </tbody>\n</table>\n</div>"
     },
     "metadata": {},
     "execution_count": 1
    }
   ]
  },
  {
   "cell_type": "code",
   "execution_count": null,
   "metadata": {},
   "outputs": [],
   "source": []
  }
 ]
}