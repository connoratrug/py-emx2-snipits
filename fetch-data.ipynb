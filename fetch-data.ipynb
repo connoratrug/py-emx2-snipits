{
 "metadata": {
  "language_info": {
   "codemirror_mode": {
    "name": "ipython",
    "version": 3
   },
   "file_extension": ".py",
   "mimetype": "text/x-python",
   "name": "python",
   "nbconvert_exporter": "python",
   "pygments_lexer": "ipython3",
   "version": "3.7.10-final"
  },
  "orig_nbformat": 2,
  "kernelspec": {
   "name": "python3710jvsc74a57bd07dfe34d8d2e62d683bd2f5d5f951b11e9760267beabc84ae9782542716d19175",
   "display_name": "Python 3.7.10 64-bit"
  }
 },
 "nbformat": 4,
 "nbformat_minor": 2,
 "cells": [
  {
   "source": [
    "from python_graphql_client import GraphqlClient\n",
    "import pandas as pd   \n",
    "import json \n",
    "\n",
    "# Instantiate the client with an endpoint.\n",
    "client = GraphqlClient(endpoint=\"https://emx2-catalogue.test.molgenis.org/Conception/graphql\")\n",
    "\n",
    "# Create the query string and variables required for the request.\n",
    "query = \"\"\"\n",
    "    query Variables { \n",
    "        Variables { \n",
    "            name\n",
    "            label,\n",
    "            unit {\n",
    "                name\n",
    "            },\n",
    "            format {\n",
    "                name\n",
    "            }\n",
    "        }\n",
    "    }\n",
    "\"\"\"\n",
    "variables = {}\n",
    "\n",
    "# Synchronous request\n",
    "resp = client.execute(query=query, variables=variables)\n",
    "# print(resp)\n",
    "df = pd.json_normalize(resp['data']['Variables'])\n",
    "df.head(5)\n"
   ],
   "cell_type": "code",
   "metadata": {},
   "execution_count": null,
   "outputs": []
  },
  {
   "cell_type": "code",
   "execution_count": null,
   "metadata": {},
   "outputs": [],
   "source": []
  }
 ]
}