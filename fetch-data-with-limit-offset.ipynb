{
 "metadata": {
  "language_info": {
   "codemirror_mode": {
    "name": "ipython",
    "version": 3
   },
   "file_extension": ".py",
   "mimetype": "text/x-python",
   "name": "python",
   "nbconvert_exporter": "python",
   "pygments_lexer": "ipython3",
   "version": "3.7.10-final"
  },
  "orig_nbformat": 2,
  "kernelspec": {
   "name": "python3710jvsc74a57bd07dfe34d8d2e62d683bd2f5d5f951b11e9760267beabc84ae9782542716d19175",
   "display_name": "Python 3.7.10 64-bit"
  }
 },
 "nbformat": 4,
 "nbformat_minor": 2,
 "cells": [
  {
   "source": [
    "from python_graphql_client import GraphqlClient\n",
    "import pandas as pd   \n",
    "import json \n",
    "\n",
    "# Instantiate the client with an endpoint.\n",
    "client = GraphqlClient(endpoint=\"https://emx2-catalogue.test.molgenis.org/Conception/graphql\")\n",
    "\n",
    "# Create the query string and variables required for the request.\n",
    "query = \"\"\"\n",
    "    query Variables { \n",
    "        Variables (limit: 3, offset: 5){ \n",
    "            name\n",
    "            label,\n",
    "            unit {\n",
    "                name\n",
    "            },\n",
    "            format {\n",
    "                name\n",
    "            }\n",
    "        }\n",
    "    }\n",
    "\"\"\"\n",
    "variables = {}\n",
    "\n",
    "# Synchronous request\n",
    "resp = client.execute(query=query, variables=variables)\n",
    "# print(resp)\n",
    "df = pd.json_normalize(resp['data']['Variables'])\n",
    "df.head(5)\n"
   ],
   "cell_type": "code",
   "metadata": {},
   "execution_count": 6,
   "outputs": [
    {
     "output_type": "execute_result",
     "data": {
      "text/plain": [
       "       name                                 label format.name\n",
       "0  datparto             Date and time of delivery    Datetime\n",
       "1  desmal_1  Description of main disease of fetus   Character\n",
       "2  desmal_2    Description of other fetal disease   Character"
      ],
      "text/html": "<div>\n<style scoped>\n    .dataframe tbody tr th:only-of-type {\n        vertical-align: middle;\n    }\n\n    .dataframe tbody tr th {\n        vertical-align: top;\n    }\n\n    .dataframe thead th {\n        text-align: right;\n    }\n</style>\n<table border=\"1\" class=\"dataframe\">\n  <thead>\n    <tr style=\"text-align: right;\">\n      <th></th>\n      <th>name</th>\n      <th>label</th>\n      <th>format.name</th>\n    </tr>\n  </thead>\n  <tbody>\n    <tr>\n      <th>0</th>\n      <td>datparto</td>\n      <td>Date and time of delivery</td>\n      <td>Datetime</td>\n    </tr>\n    <tr>\n      <th>1</th>\n      <td>desmal_1</td>\n      <td>Description of main disease of fetus</td>\n      <td>Character</td>\n    </tr>\n    <tr>\n      <th>2</th>\n      <td>desmal_2</td>\n      <td>Description of other fetal disease</td>\n      <td>Character</td>\n    </tr>\n  </tbody>\n</table>\n</div>"
     },
     "metadata": {},
     "execution_count": 6
    }
   ]
  },
  {
   "cell_type": "code",
   "execution_count": null,
   "metadata": {},
   "outputs": [],
   "source": []
  }
 ]
}